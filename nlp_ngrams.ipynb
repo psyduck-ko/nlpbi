{
 "cells": [
  {
   "cell_type": "code",
   "execution_count": 1,
   "id": "2dd9b03f",
   "metadata": {},
   "outputs": [
    {
     "name": "stdout",
     "output_type": "stream",
     "text": [
      "Unigrams:\n",
      "[('this',), ('is',), ('a',), ('sample',), ('corpus',), ('.',), ('this',), ('corpus',), ('is',), ('for',), ('testing',), ('.',), ('it',), ('contains',), ('several',), ('words',), (',',), ('some',), ('of',), ('which',), ('are',), ('repeated',), ('.',)]\n",
      "\n",
      "Bigrams:\n",
      "[('this', 'is'), ('is', 'a'), ('a', 'sample'), ('sample', 'corpus'), ('corpus', '.'), ('.', 'this'), ('this', 'corpus'), ('corpus', 'is'), ('is', 'for'), ('for', 'testing'), ('testing', '.'), ('.', 'it'), ('it', 'contains'), ('contains', 'several'), ('several', 'words'), ('words', ','), (',', 'some'), ('some', 'of'), ('of', 'which'), ('which', 'are'), ('are', 'repeated'), ('repeated', '.')]\n",
      "\n",
      "Trigrams:\n",
      "[('this', 'is', 'a'), ('is', 'a', 'sample'), ('a', 'sample', 'corpus'), ('sample', 'corpus', '.'), ('corpus', '.', 'this'), ('.', 'this', 'corpus'), ('this', 'corpus', 'is'), ('corpus', 'is', 'for'), ('is', 'for', 'testing'), ('for', 'testing', '.'), ('testing', '.', 'it'), ('.', 'it', 'contains'), ('it', 'contains', 'several'), ('contains', 'several', 'words'), ('several', 'words', ','), ('words', ',', 'some'), (',', 'some', 'of'), ('some', 'of', 'which'), ('of', 'which', 'are'), ('which', 'are', 'repeated'), ('are', 'repeated', '.')]\n"
     ]
    },
    {
     "name": "stderr",
     "output_type": "stream",
     "text": [
      "[nltk_data] Downloading package punkt to\n",
      "[nltk_data]     C:\\Users\\Lenovo\\AppData\\Roaming\\nltk_data...\n",
      "[nltk_data]   Package punkt is already up-to-date!\n"
     ]
    }
   ],
   "source": [
    "\n",
    "# Import necessary libraries\n",
    "import nltk\n",
    "from nltk import ngrams\n",
    "from nltk.tokenize import word_tokenize\n",
    "\n",
    "# Download necessary NLTK resources (run this once)\n",
    "nltk.download('punkt')\n",
    "\n",
    "# User-defined function to generate n-grams\n",
    "def generate_ngrams(text, n):\n",
    "    tokens = word_tokenize(text.lower())  # Tokenize and convert to lowercase\n",
    "    return list(ngrams(tokens, n))         # Generate n-grams\n",
    "\n",
    "# Predefined function for unigrams, bigrams, and trigrams\n",
    "def predefined_ngram_analysis(text):\n",
    "    unigrams = generate_ngrams(text, 1)\n",
    "    bigrams = generate_ngrams(text, 2)\n",
    "    trigrams = generate_ngrams(text, 3)\n",
    "    return unigrams, bigrams, trigrams\n",
    "\n",
    "# Example corpus\n",
    "corpus = ''' \n",
    "This is a sample corpus. This corpus is for testing.\n",
    "It contains several words, some of which are repeated.\n",
    "'''\n",
    "\n",
    "# Call the predefined function\n",
    "unigrams, bigrams, trigrams = predefined_ngram_analysis(corpus)\n",
    "\n",
    "# Print results\n",
    "print(\"Unigrams:\")\n",
    "print(unigrams)\n",
    "print(\"\\nBigrams:\")\n",
    "print(bigrams)\n",
    "print(\"\\nTrigrams:\")\n",
    "print(trigrams)\n"
   ]
  },
  {
   "cell_type": "code",
   "execution_count": null,
   "id": "66610060",
   "metadata": {},
   "outputs": [],
   "source": []
  }
 ],
 "metadata": {
  "kernelspec": {
   "display_name": "Python 3 (ipykernel)",
   "language": "python",
   "name": "python3"
  },
  "language_info": {
   "codemirror_mode": {
    "name": "ipython",
    "version": 3
   },
   "file_extension": ".py",
   "mimetype": "text/x-python",
   "name": "python",
   "nbconvert_exporter": "python",
   "pygments_lexer": "ipython3",
   "version": "3.11.5"
  }
 },
 "nbformat": 4,
 "nbformat_minor": 5
}
